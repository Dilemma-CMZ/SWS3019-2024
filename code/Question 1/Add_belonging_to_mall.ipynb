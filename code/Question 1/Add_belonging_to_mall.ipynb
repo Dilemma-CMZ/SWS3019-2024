{
 "cells": [
  {
   "cell_type": "markdown",
   "metadata": {},
   "source": [
    "## 定义计算一个点是否在一个多边形内部的函数"
   ]
  },
  {
   "cell_type": "code",
   "execution_count": 1,
   "metadata": {},
   "outputs": [
    {
     "name": "stdout",
     "output_type": "stream",
     "text": [
      "False\n",
      "True\n",
      "True\n",
      "False\n"
     ]
    }
   ],
   "source": [
    "def point_in_polygon(point, polygon):\n",
    "    \"\"\"\n",
    "    判断一个点是否在多边形内部\n",
    "    \n",
    "    参数:\n",
    "    point (tuple): 待测点的坐标 (x, y)\n",
    "    polygon (list): 多边形顶点坐标列表 [(x1, y1), (x2, y2), ...]\n",
    "    \n",
    "    返回:\n",
    "    bool: True 表示点在多边形内部, False 表示点在多边形外部\n",
    "    \"\"\"\n",
    "    x, y = point\n",
    "    inside = False\n",
    "    \n",
    "    # 遍历多边形的每条边\n",
    "    for i in range(len(polygon)):\n",
    "        p1 = polygon[i]\n",
    "        p2 = polygon[(i + 1) % len(polygon)]\n",
    "        \n",
    "        # 检查射线是否与边相交\n",
    "        if (p1[1] > y) != (p2[1] > y):\n",
    "            at = (p2[0] - p1[0]) * (y - p1[1]) / (p2[1] - p1[1]) + p1[0]\n",
    "            if at > x:\n",
    "                inside = not inside\n",
    "    \n",
    "    return inside\n",
    "\n",
    "# 多边形顶点坐标\n",
    "polygon = [(0, 0), (0, 10), (5, 5), (10, 10), (11, 10), (11, 1)]\n",
    "\n",
    "# 测试点坐标\n",
    "point1 = (5, 6)  # 在多边形内部\n",
    "point2 = (5, 4) # 在多边形外部\n",
    "point3 = (8, 0.73)\n",
    "point4 = (8, 0.71)\n",
    "\n",
    "print(point_in_polygon(point1, polygon))  # True\n",
    "print(point_in_polygon(point2, polygon))  # False\n",
    "print(point_in_polygon(point3, polygon))  # False\n",
    "print(point_in_polygon(point4, polygon))  # True"
   ]
  },
  {
   "cell_type": "markdown",
   "metadata": {},
   "source": [
    "## Read Transaction Record"
   ]
  },
  {
   "cell_type": "code",
   "execution_count": 2,
   "metadata": {},
   "outputs": [
    {
     "name": "stdout",
     "output_type": "stream",
     "text": [
      "/Users/serendipity/Desktop/教材/NUS暑研/SWS3019-2024/code/Question 1\n",
      "['0', '1733商业空间', '116.407387', '39.904179', '323']\n",
      "['2', 'BHG Mall(公益西桥店)', '116.311151', '40.029084', '257']\n",
      "['3', 'BHG Mall北京华联亦庄购物中心', '116.50193', '39.80546', '85']\n",
      "['4', 'BHG Mall北京华联购物中心(天时名苑店)', '116.311258', '40.028684', '257']\n"
     ]
    }
   ],
   "source": [
    "import csv\n",
    "import sys\n",
    "import os\n",
    "from shapely.geometry import Polygon, Point\n",
    "\n",
    "current_path = os.getcwd()\n",
    "print(current_path)\n",
    "csv.field_size_limit(sys.maxsize)\n",
    "# 打开CSV文件\n",
    "\n",
    "new_csv_path = '../../data/mall_belonging.csv'\n",
    "\n",
    "with open('../../data/Mall.csv', newline='') as csvfile, \\\n",
    "     open(new_csv_path, mode='w', newline='') as new_csvfile:\n",
    "    csvreader = csv.reader(csvfile, delimiter=',')\n",
    "    csvwriter = csv.writer(new_csvfile, delimiter=',')\n",
    "    headers = next(csvreader)\n",
    "    new_headers = headers + ['belonging']\n",
    "    csvwriter.writerow(new_headers)\n",
    "    lng_index = headers.index('longitude')\n",
    "    lat_index = headers.index('latitude')\n",
    "    i = 0\n",
    "    for row in csvreader:\n",
    "        lng = row[lng_index]\n",
    "        lat = row[lat_index]\n",
    "        point = Point(float(lng), float(lat))\n",
    "        i = i + 1\n",
    "        inside = False\n",
    "        idx = 0\n",
    "        with open('../../data/Beijing_geo.csv', newline='') as record:\n",
    "            recordreader = csv.reader(record, delimiter=',')\n",
    "            record_headers = next(recordreader)\n",
    "            geometry_index = record_headers.index('geometry')\n",
    "            new_id_index = record_headers.index('new_id')\n",
    "            for record_row in recordreader:\n",
    "                geometry = record_row[geometry_index]\n",
    "                new_id = record_row[new_id_index]\n",
    "                if \"MULTIPOLYGON\" in geometry:\n",
    "                    idx = new_id\n",
    "                elif \"POLYGON\" in geometry:\n",
    "                    # 处理POLYGON\n",
    "                    polygon = []\n",
    "                    geometry_str_trimmed = geometry.replace(\"POLYGON ((\", \"\").replace(\"))\", \"\")\n",
    "                    points_str = geometry_str_trimmed.split(\", \")\n",
    "                    for point_str in points_str:\n",
    "                        x_str, y_str = point_str.split(\" \")\n",
    "                        polygon.append((float(x_str), float(y_str)))\n",
    "                    poly_obj = Polygon(polygon)\n",
    "                    if poly_obj.contains(point):\n",
    "                        inside = True\n",
    "                        idx = new_id\n",
    "                        break\n",
    "            new_row = row + [idx]\n",
    "            csvwriter.writerow(new_row)\n",
    "            print(i)\n",
    "    "
   ]
  }
 ],
 "metadata": {
  "kernelspec": {
   "display_name": "my_env",
   "language": "python",
   "name": "python3"
  },
  "language_info": {
   "codemirror_mode": {
    "name": "ipython",
    "version": 3
   },
   "file_extension": ".py",
   "mimetype": "text/x-python",
   "name": "python",
   "nbconvert_exporter": "python",
   "pygments_lexer": "ipython3",
   "version": "3.12.2"
  }
 },
 "nbformat": 4,
 "nbformat_minor": 2
}
