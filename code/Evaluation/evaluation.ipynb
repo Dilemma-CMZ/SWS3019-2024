{
 "cells": [
  {
   "cell_type": "markdown",
   "metadata": {},
   "source": [
    "## 地铁站评分标准"
   ]
  },
  {
   "cell_type": "code",
   "execution_count": 1,
   "metadata": {},
   "outputs": [
    {
     "name": "stdout",
     "output_type": "stream",
     "text": [
      "   subway_category  mall_cnt                             subway_range\n",
      "0                0  1.285714               -0.001-0.06666666666666667\n",
      "1                1  1.000000  0.06666666666666667-0.13333333333333333\n",
      "2                2  2.500000                  0.13333333333333333-0.2\n",
      "3                3  1.000000                  0.2-0.26666666666666666\n",
      "4                4  3.222222   0.26666666666666666-0.3333333333333333\n",
      "5                5  2.666667                   0.3333333333333333-0.4\n",
      "6                6  4.857143                   0.4-0.4666666666666667\n",
      "7                7  4.555556    0.4666666666666667-0.5333333333333333\n",
      "8                8  5.500000                   0.5333333333333333-0.6\n",
      "9                9  6.571429                   0.6-0.6666666666666666\n",
      "10              10  3.166667    0.6666666666666666-0.7333333333333333\n",
      "11              11  2.900000                   0.7333333333333333-0.8\n",
      "12              12  2.500000                   0.8-0.8666666666666667\n",
      "13              13  2.000000    0.8666666666666667-0.9333333333333333\n",
      "14              14  2.972222                   0.9333333333333333-1.0\n"
     ]
    }
   ],
   "source": [
    "import pandas as pd\n",
    "import matplotlib.pyplot as plt\n",
    "\n",
    "criterion1 = pd.read_csv('../../data/district.csv')\n",
    "\n",
    "bins = 15\n",
    "# 使用retbins=True来获取分割点\n",
    "criterion1['subway_category'], bins_edges1 = pd.cut(criterion1['subway'], bins=bins, labels=range(bins), retbins=True)\n",
    "\n",
    "average_by_subway_category = criterion1.groupby('subway_category', observed=True)['mall_cnt'].mean().reset_index()\n",
    "\n",
    "# 生成每个category的范围字符串\n",
    "ranges = [f\"{bins_edges1[i]}-{bins_edges1[i + 1]}\" for i in range(len(bins_edges1) - 1)]\n",
    "\n",
    "# 将范围字符串添加到DataFrame中\n",
    "average_by_subway_category['subway_range'] = ranges\n",
    "\n",
    "print(average_by_subway_category)"
   ]
  },
  {
   "cell_type": "markdown",
   "metadata": {},
   "source": [
    "## Population 评分标准"
   ]
  },
  {
   "cell_type": "code",
   "execution_count": 3,
   "metadata": {},
   "outputs": [
    {
     "name": "stdout",
     "output_type": "stream",
     "text": [
      "   house_cnt_category   mall_cnt                        house_cnt_range\n",
      "0                   0   1.580645                  0.0-675.8461538461538\n",
      "1                   1   2.233333   675.8461538461538-1351.6923076923076\n",
      "2                   2   2.296296  1351.6923076923076-2027.5384615384614\n",
      "3                   3   3.538462  2027.5384615384614-2703.3846153846152\n",
      "4                   4   2.125000   2703.3846153846152-3379.230769230769\n",
      "5                   5   7.500000    3379.230769230769-4055.076923076923\n",
      "6                   6   6.200000    4055.076923076923-4730.923076923076\n",
      "7                   8   7.000000   4730.923076923076-5406.7692307692305\n",
      "8                   9   5.000000   5406.7692307692305-6082.615384615385\n",
      "9                  10  16.000000    6082.615384615385-6758.461538461538\n",
      "10                 12   4.000000   6758.461538461538-7434.3076923076915\n",
      "11                 15   3.000000   7434.3076923076915-8110.153846153846\n",
      "12                 16   3.000000               8110.153846153846-8786.0\n",
      "13                 21  17.000000               8786.0-9461.846153846152\n",
      "14                 25  16.000000   9461.846153846152-10137.692307692307\n"
     ]
    }
   ],
   "source": [
    "import numpy as np\n",
    "\n",
    "criterion2 = pd.read_csv('../../data/district.csv')\n",
    "\n",
    "bins = 26\n",
    "max_value = criterion1['house_cnt'].max()\n",
    "bin_width = max_value / bins\n",
    "\n",
    "# 使用numpy生成区间边界\n",
    "bins_edges2 = np.arange(0, max_value + bin_width, bin_width)\n",
    "\n",
    "# 使用pd.cut来分配每个house_cnt到对应的区间\n",
    "criterion2['house_cnt_category'], _ = pd.cut(criterion2['house_cnt'], bins=bins_edges2, labels=range(bins),\n",
    "                                             retbins=True)\n",
    "\n",
    "# 按照house_cnt_category分组并计算每个组的mall_cnt平均值\n",
    "average_by_house_cnt_category = criterion2.groupby('house_cnt_category', observed=True)['mall_cnt'].mean().reset_index()\n",
    "\n",
    "# 生成每个category的范围字符串\n",
    "ranges = [f\"{bins_edges2[i]}-{bins_edges2[i + 1]}\" for i in range(len(bins_edges2) - 1)]\n",
    "\n",
    "# 由于最后一个区间可能没有数据，我们需要确保ranges的长度与average_by_house_cnt_category的长度一致\n",
    "average_by_house_cnt_category['house_cnt_range'] = ranges[:len(average_by_house_cnt_category)]\n",
    "\n",
    "print(average_by_house_cnt_category)"
   ]
  },
  {
   "cell_type": "markdown",
   "metadata": {},
   "source": [
    "## 房型评分标准"
   ]
  },
  {
   "cell_type": "code",
   "execution_count": 4,
   "metadata": {},
   "outputs": [
    {
     "name": "stdout",
     "output_type": "stream",
     "text": [
      "Average for Towel: 3.289457356934159\n",
      "Average for Bungalow: 1.6804502032785749\n",
      "Average for Comb: 3.0704818559531755\n",
      "Average for Plate: 2.476455712051342\n"
     ]
    }
   ],
   "source": [
    "criterion3 = pd.read_csv('../../data/district.csv')\n",
    "\n",
    "# 计算mall_cnt与每个buildingType相乘的结果\n",
    "product_towel = criterion3['mall_cnt'] * criterion3['buildingType_towel']\n",
    "product_bungalow = criterion3['mall_cnt'] * criterion3['buildingType_bungalow']\n",
    "product_comb = criterion3['mall_cnt'] * criterion3['buildingType_comb']\n",
    "product_plate = criterion3['mall_cnt'] * criterion3['buildingType_plate']\n",
    "\n",
    "# 计算每个乘积的平均值\n",
    "average_towel = product_towel.sum() / criterion3['buildingType_towel'].sum()\n",
    "average_bungalow = product_bungalow.sum() / criterion3['buildingType_bungalow'].sum()\n",
    "average_comb = product_comb.sum() / criterion3['buildingType_comb'].sum()\n",
    "average_plate = product_plate.sum() / criterion3['buildingType_plate'].sum()\n",
    "\n",
    "# 打印结果\n",
    "print(f\"Average for Towel: {average_towel}\")\n",
    "print(f\"Average for Bungalow: {average_bungalow}\")\n",
    "print(f\"Average for Comb: {average_comb}\")\n",
    "print(f\"Average for Plate: {average_plate}\")\n"
   ]
  },
  {
   "cell_type": "markdown",
   "metadata": {},
   "source": [
    "## 最终分数判定"
   ]
  },
  {
   "cell_type": "code",
   "execution_count": 5,
   "metadata": {},
   "outputs": [],
   "source": [
    "import pandas as pd\n",
    "\n",
    "# 加载数据\n",
    "Ans = pd.read_csv('../../data/district.csv')\n",
    "\n",
    "# 创建一个空的DataFrame来存储结果\n",
    "results = pd.DataFrame(columns=['belonging', 'point1', 'point2', 'point3', 'Final_point'])\n",
    "\n",
    "# 创建一个空列表来收集每行的数据\n",
    "rows_list = []\n",
    "i = 0\n",
    "for index, row in Ans.iterrows():\n",
    "    i = i + 1\n",
    "    belonging = row['belonging']\n",
    "    subway_value = row['subway']\n",
    "    house_cnt_value = row['house_cnt']\n",
    "    bungalow = row['buildingType_bungalow']\n",
    "    comb = row['buildingType_comb']\n",
    "    plate = row['buildingType_plate']\n",
    "    towel = row['buildingType_towel']\n",
    "    mall_cnt = row['mall_cnt']\n",
    "    point1 = 0\n",
    "    point2 = 0\n",
    "    for index_subway, row_subway in average_by_subway_category.iterrows():\n",
    "        if subway_value >= bins_edges1[index_subway] and subway_value < bins_edges1[index_subway + 1]:\n",
    "            point1 = row_subway['mall_cnt']\n",
    "            break\n",
    "    for index_house_cnt, row_house_cnt in average_by_house_cnt_category.iterrows():\n",
    "        if house_cnt_value >= bins_edges2[index_house_cnt] and house_cnt_value < bins_edges2[index_house_cnt + 1]:\n",
    "            point2 = row_house_cnt['mall_cnt']\n",
    "            break\n",
    "\n",
    "    point3 = bungalow * average_bungalow + comb * average_comb + plate * average_plate + towel * average_towel\n",
    "    Final_point = (point1 + point2 + point3) / 1.0 * max(mall_cnt, 1)\n",
    "    #print(Final_point)\n",
    "    rows_list.append({\n",
    "        'belonging': int(belonging),\n",
    "        'point1': point1,\n",
    "        'point2': point2,\n",
    "        'point3': point3,\n",
    "        'Final_point': Final_point\n",
    "    })\n",
    "\n",
    "# 使用pandas.concat将所有行合并到results DataFrame中\n",
    "results = pd.concat([results, pd.DataFrame(rows_list)], ignore_index=True)\n",
    "\n",
    "# 创建一个包含0到327的belonging的DataFrame\n",
    "all_belongings = pd.DataFrame({'belonging': range(0, 328)})\n",
    "\n",
    "# 合并两个DataFrame，确保所有belonging都存在\n",
    "results_full = pd.merge(all_belongings, results, on='belonging', how='left').fillna(0)\n",
    "\n",
    "# 确保所有列除了belonging外，其他的都是整数类型\n",
    "results_full[['point1', 'point2', 'point3', 'Final_point']] = results_full[\n",
    "    ['point1', 'point2', 'point3', 'Final_point']].astype(float)\n",
    "\n",
    "# 导出结果到CSV文件\n",
    "results_full.to_csv('../../data/Evaluation_result_full.csv', index=False)"
   ]
  },
  {
   "cell_type": "code",
   "execution_count": null,
   "metadata": {},
   "outputs": [],
   "source": []
  }
 ],
 "metadata": {
  "kernelspec": {
   "display_name": "Python 3 (ipykernel)",
   "language": "python",
   "name": "python3"
  },
  "language_info": {
   "codemirror_mode": {
    "name": "ipython",
    "version": 3
   },
   "file_extension": ".py",
   "mimetype": "text/x-python",
   "name": "python",
   "nbconvert_exporter": "python",
   "pygments_lexer": "ipython3",
   "version": "3.10.14"
  }
 },
 "nbformat": 4,
 "nbformat_minor": 2
}
