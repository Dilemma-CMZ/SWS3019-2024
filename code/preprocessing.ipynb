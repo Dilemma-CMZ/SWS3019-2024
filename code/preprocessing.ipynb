{
 "cells": [
  {
   "cell_type": "code",
   "execution_count": 26,
   "id": "f86a8bb2",
   "metadata": {},
   "outputs": [
    {
     "name": "stdout",
     "output_type": "stream",
     "text": [
      "D:\\Desktop\\NUS_SOC\\SWS3019-2024\n"
     ]
    }
   ],
   "source": [
    "import os\n",
    "print(os.getcwd())"
   ]
  },
  {
   "cell_type": "code",
   "execution_count": 5,
   "id": "90e50d29",
   "metadata": {
    "scrolled": true
   },
   "outputs": [
    {
     "name": "stdout",
     "output_type": "stream",
     "text": [
      "D:\\Desktop\\NUS_SOC\\SWS3019-2024\n"
     ]
    }
   ],
   "source": [
    "os.chdir('..')\n",
    "print(os.getcwd())"
   ]
  },
  {
   "cell_type": "markdown",
   "id": "9bf53676",
   "metadata": {},
   "source": [
    "# Import data"
   ]
  },
  {
   "cell_type": "code",
   "execution_count": 12,
   "id": "6cb31f57",
   "metadata": {},
   "outputs": [],
   "source": [
    "import pandas as pd\n",
    "\n",
    "excel_path = 'origin_material\\\\BeijingHousingPrices.xlsx'\n",
    "df = pd.read_excel(excel_path)"
   ]
  },
  {
   "cell_type": "code",
   "execution_count": 13,
   "id": "e0fbd7ca",
   "metadata": {
    "scrolled": true
   },
   "outputs": [
    {
     "name": "stdout",
     "output_type": "stream",
     "text": [
      "                                                      url            id  \\\n",
      "0       https://bj.lianjia.com/chengjiao/101084782030....  101084782030   \n",
      "1       https://bj.lianjia.com/chengjiao/101086012217....  101086012217   \n",
      "2       https://bj.lianjia.com/chengjiao/101086041636....  101086041636   \n",
      "3       https://bj.lianjia.com/chengjiao/101086406841....  101086406841   \n",
      "4       https://bj.lianjia.com/chengjiao/101086920653....  101086920653   \n",
      "...                                                   ...           ...   \n",
      "318846  https://bj.lianjia.com/chengjiao/BJYZ92311192....  BJYZ92311192   \n",
      "318847  https://bj.lianjia.com/chengjiao/BJYZ92320171....  BJYZ92320171   \n",
      "318848  https://bj.lianjia.com/chengjiao/BJYZ92324217....  BJYZ92324217   \n",
      "318849  https://bj.lianjia.com/chengjiao/BJYZ92333313....  BJYZ92333313   \n",
      "318850  https://bj.lianjia.com/chengjiao/BJYZ92363553....  BJYZ92363553   \n",
      "\n",
      "               Lng        Lat            Cid  tradeTime     DOM  followers  \\\n",
      "0       116.475489  40.019520  1111027376244 2016-08-09  1464.0        106   \n",
      "1       116.453917  39.881534  1111027381879 2016-07-28   903.0        126   \n",
      "2       116.561978  39.877145  1111040862969 2016-12-11  1271.0         48   \n",
      "3       116.438010  40.076114  1111043185817 2016-09-30   965.0        138   \n",
      "4       116.428392  39.886229  1111027381174 2016-08-28   927.0        286   \n",
      "...            ...        ...            ...        ...     ...        ...   \n",
      "318846  116.546899  39.755236  1111027377053 2016-06-10     1.0          8   \n",
      "318847  116.497474  39.810115  1111027377957 2016-06-10     NaN          1   \n",
      "318848  116.497256  39.804081  1111027380056 2016-06-05     1.0          2   \n",
      "318849  116.501794  39.799347  1111027377054 2016-06-12     NaN          4   \n",
      "318850  116.497474  39.810115  1111027377957 2016-06-11     1.0          0   \n",
      "\n",
      "        totalPrice  price  ...  buildingType  constructionTime  \\\n",
      "0            415.0  31680  ...           1.0              2005   \n",
      "1            575.0  43436  ...           1.0              2004   \n",
      "2           1030.0  52021  ...           4.0              2005   \n",
      "3            297.5  22202  ...           1.0              2008   \n",
      "4            392.0  48396  ...           4.0              1960   \n",
      "...            ...    ...  ...           ...               ...   \n",
      "318846       350.0  20580  ...           4.0              2003   \n",
      "318847       108.8  31006  ...           1.0              2009   \n",
      "318848       359.0  35138  ...           4.0              2000   \n",
      "318849       720.0  40373  ...           4.0              2003   \n",
      "318850       450.0  48675  ...           4.0              Î´Öª   \n",
      "\n",
      "       renovationCondition  buildingStructure ladderRatio elevator  \\\n",
      "0                        3                  6       0.217      1.0   \n",
      "1                        4                  6       0.667      1.0   \n",
      "2                        3                  6       0.500      1.0   \n",
      "3                        1                  6       0.273      1.0   \n",
      "4                        2                  2       0.333      0.0   \n",
      "...                    ...                ...         ...      ...   \n",
      "318846                   1                  6       0.333      0.0   \n",
      "318847                   1                  6       0.222      1.0   \n",
      "318848                   3                  6       0.500      1.0   \n",
      "318849                   4                  2       0.500      0.0   \n",
      "318850                   4                  6       1.000      1.0   \n",
      "\n",
      "        fiveYearsProperty subway  district  communityAverage  \n",
      "0                     0.0    1.0         7           56021.0  \n",
      "1                     1.0    0.0         7           71539.0  \n",
      "2                     0.0    0.0         7           48160.0  \n",
      "3                     0.0    0.0         6           51238.0  \n",
      "4                     1.0    1.0         1           62588.0  \n",
      "...                   ...    ...       ...               ...  \n",
      "318846                1.0    0.0         3           36545.0  \n",
      "318847                0.0    1.0         3           54282.0  \n",
      "318848                1.0    0.0         3           46927.0  \n",
      "318849                1.0    0.0         3           54842.0  \n",
      "318850                0.0    1.0         3           54282.0  \n",
      "\n",
      "[318851 rows x 26 columns]\n"
     ]
    }
   ],
   "source": [
    "print(df)"
   ]
  },
  {
   "cell_type": "markdown",
   "id": "c3a4dfc0",
   "metadata": {},
   "source": [
    "# Drop unneccesary/missing column"
   ]
  },
  {
   "cell_type": "code",
   "execution_count": 14,
   "id": "f6be23b0",
   "metadata": {},
   "outputs": [],
   "source": [
    "df.drop('url', axis=1, inplace=True)"
   ]
  },
  {
   "cell_type": "code",
   "execution_count": 15,
   "id": "27bfa1b7",
   "metadata": {},
   "outputs": [
    {
     "name": "stdout",
     "output_type": "stream",
     "text": [
      "                  id         Lng        Lat            Cid  tradeTime     DOM  \\\n",
      "0       101084782030  116.475489  40.019520  1111027376244 2016-08-09  1464.0   \n",
      "1       101086012217  116.453917  39.881534  1111027381879 2016-07-28   903.0   \n",
      "2       101086041636  116.561978  39.877145  1111040862969 2016-12-11  1271.0   \n",
      "3       101086406841  116.438010  40.076114  1111043185817 2016-09-30   965.0   \n",
      "4       101086920653  116.428392  39.886229  1111027381174 2016-08-28   927.0   \n",
      "...              ...         ...        ...            ...        ...     ...   \n",
      "318846  BJYZ92311192  116.546899  39.755236  1111027377053 2016-06-10     1.0   \n",
      "318847  BJYZ92320171  116.497474  39.810115  1111027377957 2016-06-10     NaN   \n",
      "318848  BJYZ92324217  116.497256  39.804081  1111027380056 2016-06-05     1.0   \n",
      "318849  BJYZ92333313  116.501794  39.799347  1111027377054 2016-06-12     NaN   \n",
      "318850  BJYZ92363553  116.497474  39.810115  1111027377957 2016-06-11     1.0   \n",
      "\n",
      "        followers  totalPrice  price  square  ...  buildingType  \\\n",
      "0             106       415.0  31680  131.00  ...           1.0   \n",
      "1             126       575.0  43436  132.38  ...           1.0   \n",
      "2              48      1030.0  52021  198.00  ...           4.0   \n",
      "3             138       297.5  22202  134.00  ...           1.0   \n",
      "4             286       392.0  48396   81.00  ...           4.0   \n",
      "...           ...         ...    ...     ...  ...           ...   \n",
      "318846          8       350.0  20580  170.07  ...           4.0   \n",
      "318847          1       108.8  31006   35.09  ...           1.0   \n",
      "318848          2       359.0  35138  102.17  ...           4.0   \n",
      "318849          4       720.0  40373  178.34  ...           4.0   \n",
      "318850          0       450.0  48675   92.45  ...           4.0   \n",
      "\n",
      "       constructionTime  renovationCondition buildingStructure ladderRatio  \\\n",
      "0                  2005                    3                 6       0.217   \n",
      "1                  2004                    4                 6       0.667   \n",
      "2                  2005                    3                 6       0.500   \n",
      "3                  2008                    1                 6       0.273   \n",
      "4                  1960                    2                 2       0.333   \n",
      "...                 ...                  ...               ...         ...   \n",
      "318846             2003                    1                 6       0.333   \n",
      "318847             2009                    1                 6       0.222   \n",
      "318848             2000                    3                 6       0.500   \n",
      "318849             2003                    4                 2       0.500   \n",
      "318850             Î´Öª                    4                 6       1.000   \n",
      "\n",
      "        elevator fiveYearsProperty  subway  district  communityAverage  \n",
      "0            1.0               0.0     1.0         7           56021.0  \n",
      "1            1.0               1.0     0.0         7           71539.0  \n",
      "2            1.0               0.0     0.0         7           48160.0  \n",
      "3            1.0               0.0     0.0         6           51238.0  \n",
      "4            0.0               1.0     1.0         1           62588.0  \n",
      "...          ...               ...     ...       ...               ...  \n",
      "318846       0.0               1.0     0.0         3           36545.0  \n",
      "318847       1.0               0.0     1.0         3           54282.0  \n",
      "318848       1.0               1.0     0.0         3           46927.0  \n",
      "318849       0.0               1.0     0.0         3           54842.0  \n",
      "318850       1.0               0.0     1.0         3           54282.0  \n",
      "\n",
      "[318851 rows x 25 columns]\n"
     ]
    }
   ],
   "source": [
    "print(df)"
   ]
  },
  {
   "cell_type": "code",
   "execution_count": 16,
   "id": "f3983fa4",
   "metadata": {},
   "outputs": [],
   "source": [
    "df.drop('DOM', axis=1, inplace=True)"
   ]
  },
  {
   "cell_type": "markdown",
   "id": "2eb8362f",
   "metadata": {},
   "source": [
    "# Delete data containing missing values"
   ]
  },
  {
   "cell_type": "code",
   "execution_count": 18,
   "id": "6ff549a5",
   "metadata": {},
   "outputs": [],
   "source": [
    "df = df.dropna(subset=['livingRoom'])"
   ]
  },
  {
   "cell_type": "code",
   "execution_count": 19,
   "id": "975257ca",
   "metadata": {},
   "outputs": [],
   "source": [
    "df = df.dropna(subset=['buildingType'])"
   ]
  },
  {
   "cell_type": "code",
   "execution_count": 20,
   "id": "796d8d6d",
   "metadata": {},
   "outputs": [],
   "source": [
    "df = df.dropna(subset=['elevator'])"
   ]
  },
  {
   "cell_type": "code",
   "execution_count": 21,
   "id": "466081b4",
   "metadata": {},
   "outputs": [],
   "source": [
    "df = df.dropna(subset=['fiveYearsProperty', 'subway', 'communityAverage'])"
   ]
  },
  {
   "cell_type": "code",
   "execution_count": 22,
   "id": "bece76c5",
   "metadata": {},
   "outputs": [
    {
     "name": "stdout",
     "output_type": "stream",
     "text": [
      "                  id         Lng        Lat            Cid  tradeTime  \\\n",
      "0       101084782030  116.475489  40.019520  1111027376244 2016-08-09   \n",
      "1       101086012217  116.453917  39.881534  1111027381879 2016-07-28   \n",
      "2       101086041636  116.561978  39.877145  1111040862969 2016-12-11   \n",
      "3       101086406841  116.438010  40.076114  1111043185817 2016-09-30   \n",
      "4       101086920653  116.428392  39.886229  1111027381174 2016-08-28   \n",
      "...              ...         ...        ...            ...        ...   \n",
      "318846  BJYZ92311192  116.546899  39.755236  1111027377053 2016-06-10   \n",
      "318847  BJYZ92320171  116.497474  39.810115  1111027377957 2016-06-10   \n",
      "318848  BJYZ92324217  116.497256  39.804081  1111027380056 2016-06-05   \n",
      "318849  BJYZ92333313  116.501794  39.799347  1111027377054 2016-06-12   \n",
      "318850  BJYZ92363553  116.497474  39.810115  1111027377957 2016-06-11   \n",
      "\n",
      "        followers  totalPrice  price  square  livingRoom  ... buildingType  \\\n",
      "0             106       415.0  31680  131.00         2.0  ...          1.0   \n",
      "1             126       575.0  43436  132.38         2.0  ...          1.0   \n",
      "2              48      1030.0  52021  198.00         3.0  ...          4.0   \n",
      "3             138       297.5  22202  134.00         3.0  ...          1.0   \n",
      "4             286       392.0  48396   81.00         2.0  ...          4.0   \n",
      "...           ...         ...    ...     ...         ...  ...          ...   \n",
      "318846          8       350.0  20580  170.07         3.0  ...          4.0   \n",
      "318847          1       108.8  31006   35.09         1.0  ...          1.0   \n",
      "318848          2       359.0  35138  102.17         2.0  ...          4.0   \n",
      "318849          4       720.0  40373  178.34         4.0  ...          4.0   \n",
      "318850          0       450.0  48675   92.45         2.0  ...          4.0   \n",
      "\n",
      "        constructionTime renovationCondition buildingStructure  ladderRatio  \\\n",
      "0                   2005                   3                 6        0.217   \n",
      "1                   2004                   4                 6        0.667   \n",
      "2                   2005                   3                 6        0.500   \n",
      "3                   2008                   1                 6        0.273   \n",
      "4                   1960                   2                 2        0.333   \n",
      "...                  ...                 ...               ...          ...   \n",
      "318846              2003                   1                 6        0.333   \n",
      "318847              2009                   1                 6        0.222   \n",
      "318848              2000                   3                 6        0.500   \n",
      "318849              2003                   4                 2        0.500   \n",
      "318850              Î´Öª                   4                 6        1.000   \n",
      "\n",
      "       elevator  fiveYearsProperty  subway  district  communityAverage  \n",
      "0           1.0                0.0     1.0         7           56021.0  \n",
      "1           1.0                1.0     0.0         7           71539.0  \n",
      "2           1.0                0.0     0.0         7           48160.0  \n",
      "3           1.0                0.0     0.0         6           51238.0  \n",
      "4           0.0                1.0     1.0         1           62588.0  \n",
      "...         ...                ...     ...       ...               ...  \n",
      "318846      0.0                1.0     0.0         3           36545.0  \n",
      "318847      1.0                0.0     1.0         3           54282.0  \n",
      "318848      1.0                1.0     0.0         3           46927.0  \n",
      "318849      0.0                1.0     0.0         3           54842.0  \n",
      "318850      1.0                0.0     1.0         3           54282.0  \n",
      "\n",
      "[316448 rows x 24 columns]\n"
     ]
    }
   ],
   "source": [
    "print(df)"
   ]
  },
  {
   "cell_type": "code",
   "execution_count": 23,
   "id": "216e9efa",
   "metadata": {},
   "outputs": [],
   "source": [
    "# df.to_csv('data\\\\BeijingHousingPrices_preprocessed.csv')"
   ]
  },
  {
   "cell_type": "code",
   "execution_count": 24,
   "id": "fab3305a",
   "metadata": {},
   "outputs": [],
   "source": [
    "df['constructionTime'] = pd.to_numeric(df['constructionTime'], errors='coerce')\n",
    "df = df.dropna(subset=['constructionTime'])"
   ]
  },
  {
   "cell_type": "code",
   "execution_count": 25,
   "id": "1889208c",
   "metadata": {},
   "outputs": [
    {
     "name": "stdout",
     "output_type": "stream",
     "text": [
      "                  id         Lng        Lat            Cid  tradeTime  \\\n",
      "0       101084782030  116.475489  40.019520  1111027376244 2016-08-09   \n",
      "1       101086012217  116.453917  39.881534  1111027381879 2016-07-28   \n",
      "2       101086041636  116.561978  39.877145  1111040862969 2016-12-11   \n",
      "3       101086406841  116.438010  40.076114  1111043185817 2016-09-30   \n",
      "4       101086920653  116.428392  39.886229  1111027381174 2016-08-28   \n",
      "...              ...         ...        ...            ...        ...   \n",
      "318845  BJYZ92303482  116.546899  39.755236  1111027377053 2016-06-09   \n",
      "318846  BJYZ92311192  116.546899  39.755236  1111027377053 2016-06-10   \n",
      "318847  BJYZ92320171  116.497474  39.810115  1111027377957 2016-06-10   \n",
      "318848  BJYZ92324217  116.497256  39.804081  1111027380056 2016-06-05   \n",
      "318849  BJYZ92333313  116.501794  39.799347  1111027377054 2016-06-12   \n",
      "\n",
      "        followers  totalPrice  price  square  livingRoom  ... buildingType  \\\n",
      "0             106       415.0  31680  131.00         2.0  ...          1.0   \n",
      "1             126       575.0  43436  132.38         2.0  ...          1.0   \n",
      "2              48      1030.0  52021  198.00         3.0  ...          4.0   \n",
      "3             138       297.5  22202  134.00         3.0  ...          1.0   \n",
      "4             286       392.0  48396   81.00         2.0  ...          4.0   \n",
      "...           ...         ...    ...     ...         ...  ...          ...   \n",
      "318845          8       355.5  26491  134.20         3.0  ...          3.0   \n",
      "318846          8       350.0  20580  170.07         3.0  ...          4.0   \n",
      "318847          1       108.8  31006   35.09         1.0  ...          1.0   \n",
      "318848          2       359.0  35138  102.17         2.0  ...          4.0   \n",
      "318849          4       720.0  40373  178.34         4.0  ...          4.0   \n",
      "\n",
      "        constructionTime renovationCondition buildingStructure  ladderRatio  \\\n",
      "0                 2005.0                   3                 6        0.217   \n",
      "1                 2004.0                   4                 6        0.667   \n",
      "2                 2005.0                   3                 6        0.500   \n",
      "3                 2008.0                   1                 6        0.273   \n",
      "4                 1960.0                   2                 2        0.333   \n",
      "...                  ...                 ...               ...          ...   \n",
      "318845            2009.0                   4                 6        0.500   \n",
      "318846            2003.0                   1                 6        0.333   \n",
      "318847            2009.0                   1                 6        0.222   \n",
      "318848            2000.0                   3                 6        0.500   \n",
      "318849            2003.0                   4                 2        0.500   \n",
      "\n",
      "        elevator  fiveYearsProperty  subway  district  communityAverage  \n",
      "0            1.0                0.0     1.0         7           56021.0  \n",
      "1            1.0                1.0     0.0         7           71539.0  \n",
      "2            1.0                0.0     0.0         7           48160.0  \n",
      "3            1.0                0.0     0.0         6           51238.0  \n",
      "4            0.0                1.0     1.0         1           62588.0  \n",
      "...          ...                ...     ...       ...               ...  \n",
      "318845       1.0                1.0     0.0         3           36545.0  \n",
      "318846       0.0                1.0     0.0         3           36545.0  \n",
      "318847       1.0                0.0     1.0         3           54282.0  \n",
      "318848       1.0                1.0     0.0         3           46927.0  \n",
      "318849       0.0                1.0     0.0         3           54842.0  \n",
      "\n",
      "[297701 rows x 24 columns]\n"
     ]
    }
   ],
   "source": [
    "print(df)"
   ]
  },
  {
   "cell_type": "markdown",
   "id": "c1588197",
   "metadata": {},
   "source": [
    "# Delete outlier"
   ]
  },
  {
   "cell_type": "code",
   "execution_count": 27,
   "id": "c2c1964a",
   "metadata": {},
   "outputs": [],
   "source": [
    "df = df[df['ladderRatio'] <= 100]"
   ]
  },
  {
   "cell_type": "code",
   "execution_count": 28,
   "id": "074601f5",
   "metadata": {},
   "outputs": [],
   "source": [
    "df.to_csv('data\\\\BeijingHousingPrices_preprocessed.csv')"
   ]
  },
  {
   "cell_type": "markdown",
   "id": "7edd8cda",
   "metadata": {},
   "source": [
    "# Separation of non-atomic data"
   ]
  },
  {
   "cell_type": "code",
   "execution_count": 29,
   "id": "8764a1ee",
   "metadata": {},
   "outputs": [
    {
     "name": "stdout",
     "output_type": "stream",
     "text": [
      "id                             object\n",
      "Lng                           float64\n",
      "Lat                           float64\n",
      "Cid                             int64\n",
      "tradeTime              datetime64[ns]\n",
      "followers                       int64\n",
      "totalPrice                    float64\n",
      "price                           int64\n",
      "square                        float64\n",
      "livingRoom                    float64\n",
      "drawingRoom                    object\n",
      "kitchen                         int64\n",
      "bathRoom                       object\n",
      "floor                          object\n",
      "buildingType                  float64\n",
      "constructionTime              float64\n",
      "renovationCondition             int64\n",
      "buildingStructure               int64\n",
      "ladderRatio                   float64\n",
      "elevator                      float64\n",
      "fiveYearsProperty             float64\n",
      "subway                        float64\n",
      "district                        int64\n",
      "communityAverage              float64\n",
      "dtype: object\n"
     ]
    }
   ],
   "source": [
    "print(df.dtypes)"
   ]
  },
  {
   "cell_type": "code",
   "execution_count": 30,
   "id": "b2465952",
   "metadata": {},
   "outputs": [],
   "source": [
    "df['year'] = df['tradeTime'].dt.year\n",
    "df['month'] = df['tradeTime'].dt.month\n",
    "df['day'] = df['tradeTime'].dt.day\n",
    "df = df.drop('tradeTime', axis=1)"
   ]
  },
  {
   "cell_type": "code",
   "execution_count": 31,
   "id": "797d3890",
   "metadata": {},
   "outputs": [
    {
     "name": "stdout",
     "output_type": "stream",
     "text": [
      "                  id         Lng        Lat            Cid  followers  \\\n",
      "0       101084782030  116.475489  40.019520  1111027376244        106   \n",
      "1       101086012217  116.453917  39.881534  1111027381879        126   \n",
      "2       101086041636  116.561978  39.877145  1111040862969         48   \n",
      "3       101086406841  116.438010  40.076114  1111043185817        138   \n",
      "4       101086920653  116.428392  39.886229  1111027381174        286   \n",
      "...              ...         ...        ...            ...        ...   \n",
      "318845  BJYZ92303482  116.546899  39.755236  1111027377053          8   \n",
      "318846  BJYZ92311192  116.546899  39.755236  1111027377053          8   \n",
      "318847  BJYZ92320171  116.497474  39.810115  1111027377957          1   \n",
      "318848  BJYZ92324217  116.497256  39.804081  1111027380056          2   \n",
      "318849  BJYZ92333313  116.501794  39.799347  1111027377054          4   \n",
      "\n",
      "        totalPrice  price  square  livingRoom drawingRoom  ...  \\\n",
      "0            415.0  31680  131.00         2.0           1  ...   \n",
      "1            575.0  43436  132.38         2.0           2  ...   \n",
      "2           1030.0  52021  198.00         3.0           2  ...   \n",
      "3            297.5  22202  134.00         3.0           1  ...   \n",
      "4            392.0  48396   81.00         2.0           1  ...   \n",
      "...            ...    ...     ...         ...         ...  ...   \n",
      "318845       355.5  26491  134.20         3.0           2  ...   \n",
      "318846       350.0  20580  170.07         3.0           2  ...   \n",
      "318847       108.8  31006   35.09         1.0           0  ...   \n",
      "318848       359.0  35138  102.17         2.0           2  ...   \n",
      "318849       720.0  40373  178.34         4.0           2  ...   \n",
      "\n",
      "        buildingStructure ladderRatio elevator  fiveYearsProperty  subway  \\\n",
      "0                       6       0.217      1.0                0.0     1.0   \n",
      "1                       6       0.667      1.0                1.0     0.0   \n",
      "2                       6       0.500      1.0                0.0     0.0   \n",
      "3                       6       0.273      1.0                0.0     0.0   \n",
      "4                       2       0.333      0.0                1.0     1.0   \n",
      "...                   ...         ...      ...                ...     ...   \n",
      "318845                  6       0.500      1.0                1.0     0.0   \n",
      "318846                  6       0.333      0.0                1.0     0.0   \n",
      "318847                  6       0.222      1.0                0.0     1.0   \n",
      "318848                  6       0.500      1.0                1.0     0.0   \n",
      "318849                  2       0.500      0.0                1.0     0.0   \n",
      "\n",
      "        district  communityAverage  year  month  day  \n",
      "0              7           56021.0  2016      8    9  \n",
      "1              7           71539.0  2016      7   28  \n",
      "2              7           48160.0  2016     12   11  \n",
      "3              6           51238.0  2016      9   30  \n",
      "4              1           62588.0  2016      8   28  \n",
      "...          ...               ...   ...    ...  ...  \n",
      "318845         3           36545.0  2016      6    9  \n",
      "318846         3           36545.0  2016      6   10  \n",
      "318847         3           54282.0  2016      6   10  \n",
      "318848         3           46927.0  2016      6    5  \n",
      "318849         3           54842.0  2016      6   12  \n",
      "\n",
      "[297699 rows x 26 columns]\n"
     ]
    }
   ],
   "source": [
    "print(df)"
   ]
  },
  {
   "cell_type": "code",
   "execution_count": 32,
   "id": "1f43e077",
   "metadata": {},
   "outputs": [],
   "source": [
    "def floor(s):\n",
    "    return int(s.split(' ')[1])\n",
    "\n",
    "df['floor_num'] = df['floor'].apply(floor)"
   ]
  },
  {
   "cell_type": "code",
   "execution_count": 33,
   "id": "832c34e5",
   "metadata": {},
   "outputs": [],
   "source": [
    "def height(s):\n",
    "    s = s.split(' ')[0]\n",
    "    if s == 'Unknown':\n",
    "        return 0\n",
    "    elif s == 'Low':\n",
    "        return 1\n",
    "    elif s == 'Middle':\n",
    "        return 2\n",
    "    elif s == 'High':\n",
    "        return 3\n",
    "    elif s == 'Top':\n",
    "        return 4\n",
    "    else:\n",
    "        return 5\n",
    "\n",
    "df['relativeHeight'] = df['floor'].apply(height)"
   ]
  },
  {
   "cell_type": "code",
   "execution_count": 34,
   "id": "f7b9f5e9",
   "metadata": {},
   "outputs": [],
   "source": [
    "df = df.drop('floor', axis=1)"
   ]
  },
  {
   "cell_type": "code",
   "execution_count": 35,
   "id": "0d7fa7df",
   "metadata": {},
   "outputs": [
    {
     "name": "stdout",
     "output_type": "stream",
     "text": [
      "                  id         Lng        Lat            Cid  followers  \\\n",
      "0       101084782030  116.475489  40.019520  1111027376244        106   \n",
      "1       101086012217  116.453917  39.881534  1111027381879        126   \n",
      "2       101086041636  116.561978  39.877145  1111040862969         48   \n",
      "3       101086406841  116.438010  40.076114  1111043185817        138   \n",
      "4       101086920653  116.428392  39.886229  1111027381174        286   \n",
      "...              ...         ...        ...            ...        ...   \n",
      "318845  BJYZ92303482  116.546899  39.755236  1111027377053          8   \n",
      "318846  BJYZ92311192  116.546899  39.755236  1111027377053          8   \n",
      "318847  BJYZ92320171  116.497474  39.810115  1111027377957          1   \n",
      "318848  BJYZ92324217  116.497256  39.804081  1111027380056          2   \n",
      "318849  BJYZ92333313  116.501794  39.799347  1111027377054          4   \n",
      "\n",
      "        totalPrice  price  square  livingRoom drawingRoom  ...  elevator  \\\n",
      "0            415.0  31680  131.00         2.0           1  ...       1.0   \n",
      "1            575.0  43436  132.38         2.0           2  ...       1.0   \n",
      "2           1030.0  52021  198.00         3.0           2  ...       1.0   \n",
      "3            297.5  22202  134.00         3.0           1  ...       1.0   \n",
      "4            392.0  48396   81.00         2.0           1  ...       0.0   \n",
      "...            ...    ...     ...         ...         ...  ...       ...   \n",
      "318845       355.5  26491  134.20         3.0           2  ...       1.0   \n",
      "318846       350.0  20580  170.07         3.0           2  ...       0.0   \n",
      "318847       108.8  31006   35.09         1.0           0  ...       1.0   \n",
      "318848       359.0  35138  102.17         2.0           2  ...       1.0   \n",
      "318849       720.0  40373  178.34         4.0           2  ...       0.0   \n",
      "\n",
      "       fiveYearsProperty  subway  district  communityAverage  year  month  \\\n",
      "0                    0.0     1.0         7           56021.0  2016      8   \n",
      "1                    1.0     0.0         7           71539.0  2016      7   \n",
      "2                    0.0     0.0         7           48160.0  2016     12   \n",
      "3                    0.0     0.0         6           51238.0  2016      9   \n",
      "4                    1.0     1.0         1           62588.0  2016      8   \n",
      "...                  ...     ...       ...               ...   ...    ...   \n",
      "318845               1.0     0.0         3           36545.0  2016      6   \n",
      "318846               1.0     0.0         3           36545.0  2016      6   \n",
      "318847               0.0     1.0         3           54282.0  2016      6   \n",
      "318848               1.0     0.0         3           46927.0  2016      6   \n",
      "318849               1.0     0.0         3           54842.0  2016      6   \n",
      "\n",
      "        day  floor_num  relativeHeight  \n",
      "0         9         26               3  \n",
      "1        28         22               3  \n",
      "2        11          4               2  \n",
      "3        30         21               1  \n",
      "4        28          6               2  \n",
      "...     ...        ...             ...  \n",
      "318845    9          9               2  \n",
      "318846   10          5               2  \n",
      "318847   10         24               2  \n",
      "318848    5          7               2  \n",
      "318849   12          5               2  \n",
      "\n",
      "[297699 rows x 27 columns]\n"
     ]
    }
   ],
   "source": [
    "print(df)"
   ]
  },
  {
   "cell_type": "code",
   "execution_count": 36,
   "id": "2d2e9047",
   "metadata": {},
   "outputs": [],
   "source": [
    "df.to_csv('data\\\\BeijingHousingPrices_preprocessed.csv')"
   ]
  },
  {
   "cell_type": "code",
   "execution_count": null,
   "id": "86d0d4b6",
   "metadata": {},
   "outputs": [],
   "source": []
  }
 ],
 "metadata": {
  "kernelspec": {
   "display_name": "Python 3 (ipykernel)",
   "language": "python",
   "name": "python3"
  },
  "language_info": {
   "codemirror_mode": {
    "name": "ipython",
    "version": 3
   },
   "file_extension": ".py",
   "mimetype": "text/x-python",
   "name": "python",
   "nbconvert_exporter": "python",
   "pygments_lexer": "ipython3",
   "version": "3.10.14"
  }
 },
 "nbformat": 4,
 "nbformat_minor": 5
}
